{
 "cells": [
  {
   "cell_type": "code",
   "execution_count": 68,
   "metadata": {},
   "outputs": [],
   "source": [
    "import pyspark\n",
    "\n",
    "spark = pyspark.sql.SparkSession.builder.getOrCreate()"
   ]
  },
  {
   "cell_type": "code",
   "execution_count": 2,
   "metadata": {},
   "outputs": [
    {
     "data": {
      "text/html": [
       "<div>\n",
       "<style scoped>\n",
       "    .dataframe tbody tr th:only-of-type {\n",
       "        vertical-align: middle;\n",
       "    }\n",
       "\n",
       "    .dataframe tbody tr th {\n",
       "        vertical-align: top;\n",
       "    }\n",
       "\n",
       "    .dataframe thead th {\n",
       "        text-align: right;\n",
       "    }\n",
       "</style>\n",
       "<table border=\"1\" class=\"dataframe\">\n",
       "  <thead>\n",
       "    <tr style=\"text-align: right;\">\n",
       "      <th></th>\n",
       "      <th>n</th>\n",
       "      <th>group</th>\n",
       "    </tr>\n",
       "  </thead>\n",
       "  <tbody>\n",
       "    <tr>\n",
       "      <th>0</th>\n",
       "      <td>0</td>\n",
       "      <td>b</td>\n",
       "    </tr>\n",
       "    <tr>\n",
       "      <th>1</th>\n",
       "      <td>1</td>\n",
       "      <td>b</td>\n",
       "    </tr>\n",
       "    <tr>\n",
       "      <th>2</th>\n",
       "      <td>2</td>\n",
       "      <td>c</td>\n",
       "    </tr>\n",
       "    <tr>\n",
       "      <th>3</th>\n",
       "      <td>3</td>\n",
       "      <td>a</td>\n",
       "    </tr>\n",
       "    <tr>\n",
       "      <th>4</th>\n",
       "      <td>4</td>\n",
       "      <td>c</td>\n",
       "    </tr>\n",
       "    <tr>\n",
       "      <th>5</th>\n",
       "      <td>5</td>\n",
       "      <td>c</td>\n",
       "    </tr>\n",
       "    <tr>\n",
       "      <th>6</th>\n",
       "      <td>6</td>\n",
       "      <td>a</td>\n",
       "    </tr>\n",
       "    <tr>\n",
       "      <th>7</th>\n",
       "      <td>7</td>\n",
       "      <td>b</td>\n",
       "    </tr>\n",
       "    <tr>\n",
       "      <th>8</th>\n",
       "      <td>8</td>\n",
       "      <td>a</td>\n",
       "    </tr>\n",
       "    <tr>\n",
       "      <th>9</th>\n",
       "      <td>9</td>\n",
       "      <td>b</td>\n",
       "    </tr>\n",
       "    <tr>\n",
       "      <th>10</th>\n",
       "      <td>10</td>\n",
       "      <td>b</td>\n",
       "    </tr>\n",
       "    <tr>\n",
       "      <th>11</th>\n",
       "      <td>11</td>\n",
       "      <td>a</td>\n",
       "    </tr>\n",
       "    <tr>\n",
       "      <th>12</th>\n",
       "      <td>12</td>\n",
       "      <td>b</td>\n",
       "    </tr>\n",
       "    <tr>\n",
       "      <th>13</th>\n",
       "      <td>13</td>\n",
       "      <td>a</td>\n",
       "    </tr>\n",
       "    <tr>\n",
       "      <th>14</th>\n",
       "      <td>14</td>\n",
       "      <td>b</td>\n",
       "    </tr>\n",
       "    <tr>\n",
       "      <th>15</th>\n",
       "      <td>15</td>\n",
       "      <td>b</td>\n",
       "    </tr>\n",
       "    <tr>\n",
       "      <th>16</th>\n",
       "      <td>16</td>\n",
       "      <td>c</td>\n",
       "    </tr>\n",
       "    <tr>\n",
       "      <th>17</th>\n",
       "      <td>17</td>\n",
       "      <td>c</td>\n",
       "    </tr>\n",
       "    <tr>\n",
       "      <th>18</th>\n",
       "      <td>18</td>\n",
       "      <td>a</td>\n",
       "    </tr>\n",
       "    <tr>\n",
       "      <th>19</th>\n",
       "      <td>19</td>\n",
       "      <td>c</td>\n",
       "    </tr>\n",
       "  </tbody>\n",
       "</table>\n",
       "</div>"
      ],
      "text/plain": [
       "     n group\n",
       "0    0     b\n",
       "1    1     b\n",
       "2    2     c\n",
       "3    3     a\n",
       "4    4     c\n",
       "5    5     c\n",
       "6    6     a\n",
       "7    7     b\n",
       "8    8     a\n",
       "9    9     b\n",
       "10  10     b\n",
       "11  11     a\n",
       "12  12     b\n",
       "13  13     a\n",
       "14  14     b\n",
       "15  15     b\n",
       "16  16     c\n",
       "17  17     c\n",
       "18  18     a\n",
       "19  19     c"
      ]
     },
     "execution_count": 2,
     "metadata": {},
     "output_type": "execute_result"
    }
   ],
   "source": [
    "import pandas as pd\n",
    "import numpy as np\n",
    "\n",
    "np.random.seed(456)\n",
    "\n",
    "pandas_dataframe = pd.DataFrame(\n",
    "    dict(n=np.arange(20), group=np.random.choice(list(\"abc\"), 20))\n",
    ")\n",
    "pandas_dataframe"
   ]
  },
  {
   "cell_type": "code",
   "execution_count": 3,
   "metadata": {},
   "outputs": [
    {
     "data": {
      "text/plain": [
       "DataFrame[n: bigint, group: string]"
      ]
     },
     "execution_count": 3,
     "metadata": {},
     "output_type": "execute_result"
    }
   ],
   "source": [
    "df = spark.createDataFrame(pandas_dataframe)\n",
    "df"
   ]
  },
  {
   "cell_type": "code",
   "execution_count": 4,
   "metadata": {},
   "outputs": [
    {
     "name": "stdout",
     "output_type": "stream",
     "text": [
      "+---+-----+\n",
      "|  n|group|\n",
      "+---+-----+\n",
      "|  0|    b|\n",
      "|  1|    b|\n",
      "|  2|    c|\n",
      "|  3|    a|\n",
      "|  4|    c|\n",
      "|  5|    c|\n",
      "|  6|    a|\n",
      "|  7|    b|\n",
      "|  8|    a|\n",
      "|  9|    b|\n",
      "| 10|    b|\n",
      "| 11|    a|\n",
      "| 12|    b|\n",
      "| 13|    a|\n",
      "| 14|    b|\n",
      "| 15|    b|\n",
      "| 16|    c|\n",
      "| 17|    c|\n",
      "| 18|    a|\n",
      "| 19|    c|\n",
      "+---+-----+\n",
      "\n"
     ]
    }
   ],
   "source": [
    "df.show()"
   ]
  },
  {
   "cell_type": "code",
   "execution_count": 5,
   "metadata": {},
   "outputs": [
    {
     "data": {
      "text/plain": [
       "DataFrame[summary: string, n: string, group: string]"
      ]
     },
     "execution_count": 5,
     "metadata": {},
     "output_type": "execute_result"
    }
   ],
   "source": [
    "df.describe()"
   ]
  },
  {
   "cell_type": "code",
   "execution_count": 6,
   "metadata": {},
   "outputs": [
    {
     "name": "stdout",
     "output_type": "stream",
     "text": [
      "+-------+-----------------+-----+\n",
      "|summary|                n|group|\n",
      "+-------+-----------------+-----+\n",
      "|  count|               20|   20|\n",
      "|   mean|              9.5| null|\n",
      "| stddev|5.916079783099616| null|\n",
      "|    min|                0|    a|\n",
      "|    max|               19|    c|\n",
      "+-------+-----------------+-----+\n",
      "\n"
     ]
    }
   ],
   "source": [
    "df.describe().show()"
   ]
  },
  {
   "cell_type": "code",
   "execution_count": 7,
   "metadata": {},
   "outputs": [
    {
     "name": "stdout",
     "output_type": "stream",
     "text": [
      "+------------+-----+-----+----+---+----------+---+---+---+---+-------+\n",
      "|manufacturer|model|displ|year|cyl|     trans|drv|cty|hwy| fl|  class|\n",
      "+------------+-----+-----+----+---+----------+---+---+---+---+-------+\n",
      "|        audi|   a4|  1.8|1999|  4|  auto(l5)|  f| 18| 29|  p|compact|\n",
      "|        audi|   a4|  1.8|1999|  4|manual(m5)|  f| 21| 29|  p|compact|\n",
      "|        audi|   a4|  2.0|2008|  4|manual(m6)|  f| 20| 31|  p|compact|\n",
      "|        audi|   a4|  2.0|2008|  4|  auto(av)|  f| 21| 30|  p|compact|\n",
      "|        audi|   a4|  2.8|1999|  6|  auto(l5)|  f| 16| 26|  p|compact|\n",
      "+------------+-----+-----+----+---+----------+---+---+---+---+-------+\n",
      "only showing top 5 rows\n",
      "\n"
     ]
    }
   ],
   "source": [
    "from pydataset import data\n",
    "\n",
    "mpg = spark.createDataFrame(data(\"mpg\"))\n",
    "mpg.show(5)"
   ]
  },
  {
   "cell_type": "code",
   "execution_count": 8,
   "metadata": {},
   "outputs": [
    {
     "data": {
      "text/plain": [
       "Column<'hwy'>"
      ]
     },
     "execution_count": 8,
     "metadata": {},
     "output_type": "execute_result"
    }
   ],
   "source": [
    "mpg.hwy"
   ]
  },
  {
   "cell_type": "code",
   "execution_count": 9,
   "metadata": {},
   "outputs": [
    {
     "data": {
      "text/plain": [
       "DataFrame[hwy: bigint, cty: bigint, model: string]"
      ]
     },
     "execution_count": 9,
     "metadata": {},
     "output_type": "execute_result"
    }
   ],
   "source": [
    "mpg.select(mpg.hwy, mpg.cty, mpg.model)"
   ]
  },
  {
   "cell_type": "code",
   "execution_count": 10,
   "metadata": {},
   "outputs": [
    {
     "name": "stdout",
     "output_type": "stream",
     "text": [
      "+---+---+----------+\n",
      "|hwy|cty|     model|\n",
      "+---+---+----------+\n",
      "| 29| 18|        a4|\n",
      "| 29| 21|        a4|\n",
      "| 31| 20|        a4|\n",
      "| 30| 21|        a4|\n",
      "| 26| 16|        a4|\n",
      "| 26| 18|        a4|\n",
      "| 27| 18|        a4|\n",
      "| 26| 18|a4 quattro|\n",
      "| 25| 16|a4 quattro|\n",
      "| 28| 20|a4 quattro|\n",
      "+---+---+----------+\n",
      "only showing top 10 rows\n",
      "\n"
     ]
    }
   ],
   "source": [
    "mpg.select(mpg.hwy, mpg.cty, mpg.model).show(10)"
   ]
  },
  {
   "cell_type": "code",
   "execution_count": 11,
   "metadata": {},
   "outputs": [
    {
     "data": {
      "text/plain": [
       "Column<'(hwy + 1)'>"
      ]
     },
     "execution_count": 11,
     "metadata": {},
     "output_type": "execute_result"
    }
   ],
   "source": [
    "mpg.hwy + 1"
   ]
  },
  {
   "cell_type": "code",
   "execution_count": 12,
   "metadata": {},
   "outputs": [
    {
     "name": "stdout",
     "output_type": "stream",
     "text": [
      "+---+---------+\n",
      "|hwy|(hwy + 1)|\n",
      "+---+---------+\n",
      "| 29|       30|\n",
      "| 29|       30|\n",
      "| 31|       32|\n",
      "| 30|       31|\n",
      "| 26|       27|\n",
      "+---+---------+\n",
      "only showing top 5 rows\n",
      "\n"
     ]
    }
   ],
   "source": [
    "mpg.select(mpg.hwy, mpg.hwy + 1).show(5)"
   ]
  },
  {
   "cell_type": "code",
   "execution_count": 13,
   "metadata": {},
   "outputs": [
    {
     "name": "stdout",
     "output_type": "stream",
     "text": [
      "+---------------+\n",
      "|highway_mileage|\n",
      "+---------------+\n",
      "|             29|\n",
      "|             29|\n",
      "|             31|\n",
      "|             30|\n",
      "|             26|\n",
      "+---------------+\n",
      "only showing top 5 rows\n",
      "\n"
     ]
    }
   ],
   "source": [
    "mpg.select(mpg.hwy.alias(\"highway_mileage\")).show(5)"
   ]
  },
  {
   "cell_type": "code",
   "execution_count": 14,
   "metadata": {},
   "outputs": [],
   "source": [
    "pandas_dataframe = pd.DataFrame({\n",
    "    \"n\": np.random.randn(20),\n",
    "    \"group\": np.random.choice(list(\"xyz\"), 20),\n",
    "    \"abool\": np.random.choice([True, False], 20),\n",
    "})"
   ]
  },
  {
   "cell_type": "code",
   "execution_count": 15,
   "metadata": {},
   "outputs": [
    {
     "data": {
      "text/plain": [
       "DataFrame[n: double, group: string, abool: boolean]"
      ]
     },
     "execution_count": 15,
     "metadata": {},
     "output_type": "execute_result"
    }
   ],
   "source": [
    "df = spark.createDataFrame(pandas_dataframe)\n",
    "df"
   ]
  },
  {
   "cell_type": "code",
   "execution_count": 16,
   "metadata": {},
   "outputs": [
    {
     "name": "stdout",
     "output_type": "stream",
     "text": [
      "+-------------------+-----+-----+\n",
      "|                  n|group|abool|\n",
      "+-------------------+-----+-----+\n",
      "| 1.8356462888346827|    z| true|\n",
      "|-1.8868228152944575|    x| true|\n",
      "|0.42476258526975835|    y| true|\n",
      "+-------------------+-----+-----+\n",
      "only showing top 3 rows\n",
      "\n"
     ]
    }
   ],
   "source": [
    "df.show(3)"
   ]
  },
  {
   "cell_type": "code",
   "execution_count": 17,
   "metadata": {},
   "outputs": [
    {
     "name": "stdout",
     "output_type": "stream",
     "text": [
      "+-------------------+-----+-----+\n",
      "|                  n|group|abool|\n",
      "+-------------------+-----+-----+\n",
      "| 1.8356462888346827|    z| true|\n",
      "|-1.8868228152944575|    x| true|\n",
      "|0.42476258526975835|    y| true|\n",
      "|-0.4331049843349663|    y| true|\n",
      "|-0.1668376625912182|    x|false|\n",
      "|  0.754634059814846|    y| true|\n",
      "| 1.9669745181466287|    y|false|\n",
      "+-------------------+-----+-----+\n",
      "only showing top 7 rows\n",
      "\n"
     ]
    }
   ],
   "source": [
    "df.show(7)"
   ]
  },
  {
   "cell_type": "code",
   "execution_count": 18,
   "metadata": {},
   "outputs": [
    {
     "data": {
      "text/plain": [
       "DataFrame[summary: string, n: string, group: string]"
      ]
     },
     "execution_count": 18,
     "metadata": {},
     "output_type": "execute_result"
    }
   ],
   "source": [
    "df.describe()"
   ]
  },
  {
   "cell_type": "code",
   "execution_count": 19,
   "metadata": {},
   "outputs": [
    {
     "name": "stdout",
     "output_type": "stream",
     "text": [
      "+-------------------+-----+\n",
      "|                  n|abool|\n",
      "+-------------------+-----+\n",
      "| 1.8356462888346827| true|\n",
      "|-1.8868228152944575| true|\n",
      "|0.42476258526975835| true|\n",
      "|-0.4331049843349663| true|\n",
      "|-0.1668376625912182|false|\n",
      "+-------------------+-----+\n",
      "only showing top 5 rows\n",
      "\n"
     ]
    }
   ],
   "source": [
    "df.select(df.n, df.abool).show(5)"
   ]
  },
  {
   "cell_type": "code",
   "execution_count": 20,
   "metadata": {},
   "outputs": [
    {
     "name": "stdout",
     "output_type": "stream",
     "text": [
      "+-------------------+-----+\n",
      "|                  n|abool|\n",
      "+-------------------+-----+\n",
      "| 1.8356462888346827| true|\n",
      "|-1.8868228152944575| true|\n",
      "|0.42476258526975835| true|\n",
      "|-0.4331049843349663| true|\n",
      "|-0.1668376625912182|false|\n",
      "+-------------------+-----+\n",
      "only showing top 5 rows\n",
      "\n"
     ]
    }
   ],
   "source": [
    "roar = df.select(df.n, df.abool)\n",
    "roar.show(5)"
   ]
  },
  {
   "cell_type": "code",
   "execution_count": 21,
   "metadata": {},
   "outputs": [
    {
     "name": "stdout",
     "output_type": "stream",
     "text": [
      "+-----+---------------+\n",
      "|group|a_boolean_value|\n",
      "+-----+---------------+\n",
      "|    z|           true|\n",
      "|    x|           true|\n",
      "|    y|           true|\n",
      "+-----+---------------+\n",
      "only showing top 3 rows\n",
      "\n"
     ]
    }
   ],
   "source": [
    "df.select(df.group, df.abool.alias(\"a_boolean_value\")).show(3)"
   ]
  },
  {
   "cell_type": "code",
   "execution_count": 22,
   "metadata": {},
   "outputs": [
    {
     "name": "stdout",
     "output_type": "stream",
     "text": [
      "+-----+-------------------+\n",
      "|group|    a_numeric_value|\n",
      "+-----+-------------------+\n",
      "|    z| 1.8356462888346827|\n",
      "|    x|-1.8868228152944575|\n",
      "|    y|0.42476258526975835|\n",
      "|    y|-0.4331049843349663|\n",
      "|    x|-0.1668376625912182|\n",
      "|    y|  0.754634059814846|\n",
      "|    y| 1.9669745181466287|\n",
      "+-----+-------------------+\n",
      "only showing top 7 rows\n",
      "\n"
     ]
    }
   ],
   "source": [
    "df.select(df.group, df.n.alias(\"a_numeric_value\")).show(7)"
   ]
  },
  {
   "cell_type": "code",
   "execution_count": 23,
   "metadata": {},
   "outputs": [
    {
     "name": "stdout",
     "output_type": "stream",
     "text": [
      "+------------------+\n",
      "|           (n + 4)|\n",
      "+------------------+\n",
      "| 5.835646288834683|\n",
      "|2.1131771847055427|\n",
      "| 4.424762585269758|\n",
      "| 3.566895015665034|\n",
      "| 3.833162337408782|\n",
      "| 4.754634059814846|\n",
      "| 5.966974518146628|\n",
      "| 4.200671078139285|\n",
      "| 4.742751638585151|\n",
      "| 2.735729301957435|\n",
      "|  3.88721255597881|\n",
      "| 4.667358048705604|\n",
      "| 4.357899658498672|\n",
      "| 3.786425092774556|\n",
      "|2.7613805021428215|\n",
      "| 3.574821590151561|\n",
      "| 4.483427919286223|\n",
      "| 4.348016122917654|\n",
      "| 4.758573771323611|\n",
      "| 4.212900837234731|\n",
      "+------------------+\n",
      "\n"
     ]
    }
   ],
   "source": [
    "df.select(df.n + 4).show()"
   ]
  },
  {
   "cell_type": "code",
   "execution_count": 24,
   "metadata": {},
   "outputs": [
    {
     "name": "stdout",
     "output_type": "stream",
     "text": [
      "+-------------------+\n",
      "|            (n - 5)|\n",
      "+-------------------+\n",
      "| -3.164353711165317|\n",
      "| -6.886822815294457|\n",
      "| -4.575237414730242|\n",
      "| -5.433104984334967|\n",
      "|-5.1668376625912185|\n",
      "| -4.245365940185154|\n",
      "|-3.0330254818533713|\n",
      "| -4.799328921860715|\n",
      "| -4.257248361414849|\n",
      "| -6.264270698042565|\n",
      "|-5.1127874440211905|\n",
      "| -4.332641951294396|\n",
      "| -4.642100341501328|\n",
      "| -5.213574907225444|\n",
      "|-6.2386194978571785|\n",
      "|-5.4251784098484395|\n",
      "| -4.516572080713777|\n",
      "| -4.651983877082346|\n",
      "| -4.241426228676389|\n",
      "| -4.787099162765269|\n",
      "+-------------------+\n",
      "\n"
     ]
    }
   ],
   "source": [
    " df.select(df.n - 5).show()"
   ]
  },
  {
   "cell_type": "code",
   "execution_count": 25,
   "metadata": {},
   "outputs": [
    {
     "name": "stdout",
     "output_type": "stream",
     "text": [
      "+--------------------+--------------------+\n",
      "|                   n|             (n * 2)|\n",
      "+--------------------+--------------------+\n",
      "|  1.8356462888346827|  3.6712925776693655|\n",
      "| -1.8868228152944575|  -3.773645630588915|\n",
      "| 0.42476258526975835|  0.8495251705395167|\n",
      "| -0.4331049843349663| -0.8662099686699326|\n",
      "| -0.1668376625912182| -0.3336753251824364|\n",
      "|   0.754634059814846|   1.509268119629692|\n",
      "|  1.9669745181466287|  3.9339490362932574|\n",
      "| 0.20067107813928464|  0.4013421562785693|\n",
      "|  0.7427516385851509|  1.4855032771703018|\n",
      "|  -1.264270698042565|   -2.52854139608513|\n",
      "| -0.1127874440211902| -0.2255748880423804|\n",
      "|  0.6673580487056044|   1.334716097411209|\n",
      "| 0.35789965849867184|  0.7157993169973437|\n",
      "|-0.21357490722544392|-0.42714981445088784|\n",
      "| -1.2386194978571787| -2.4772389957143575|\n",
      "| -0.4251784098484392| -0.8503568196968784|\n",
      "|  0.4834279192862231|  0.9668558385724462|\n",
      "| 0.34801612291765394|  0.6960322458353079|\n",
      "|  0.7585737713236111|  1.5171475426472223|\n",
      "| 0.21290083723473058| 0.42580167446946116|\n",
      "+--------------------+--------------------+\n",
      "\n"
     ]
    }
   ],
   "source": [
    "df.select(df.n, df.n * 2).show()"
   ]
  },
  {
   "cell_type": "code",
   "execution_count": 26,
   "metadata": {},
   "outputs": [
    {
     "name": "stdout",
     "output_type": "stream",
     "text": [
      "+--------------------+-----+-----+--------------------+\n",
      "|                   n|group|abool|                  n2|\n",
      "+--------------------+-----+-----+--------------------+\n",
      "|  1.8356462888346827|    z| true| -1.8356462888346827|\n",
      "| -1.8868228152944575|    x| true|  1.8868228152944575|\n",
      "| 0.42476258526975835|    y| true|-0.42476258526975835|\n",
      "| -0.4331049843349663|    y| true|  0.4331049843349663|\n",
      "| -0.1668376625912182|    x|false|  0.1668376625912182|\n",
      "|   0.754634059814846|    y| true|  -0.754634059814846|\n",
      "|  1.9669745181466287|    y|false| -1.9669745181466287|\n",
      "| 0.20067107813928464|    z|false|-0.20067107813928464|\n",
      "|  0.7427516385851509|    x|false| -0.7427516385851509|\n",
      "|  -1.264270698042565|    z|false|   1.264270698042565|\n",
      "| -0.1127874440211902|    z| true|  0.1127874440211902|\n",
      "|  0.6673580487056044|    x| true| -0.6673580487056044|\n",
      "| 0.35789965849867184|    x|false|-0.35789965849867184|\n",
      "|-0.21357490722544392|    x|false| 0.21357490722544392|\n",
      "| -1.2386194978571787|    x| true|  1.2386194978571787|\n",
      "| -0.4251784098484392|    z| true|  0.4251784098484392|\n",
      "|  0.4834279192862231|    z| true| -0.4834279192862231|\n",
      "| 0.34801612291765394|    x| true|-0.34801612291765394|\n",
      "|  0.7585737713236111|    y| true| -0.7585737713236111|\n",
      "| 0.21290083723473058|    x|false|-0.21290083723473058|\n",
      "+--------------------+-----+-----+--------------------+\n",
      "\n"
     ]
    }
   ],
   "source": [
    "df = df.withColumn('n2', df.n*-1)\n",
    "df.show()"
   ]
  },
  {
   "cell_type": "code",
   "execution_count": 27,
   "metadata": {},
   "outputs": [
    {
     "name": "stdout",
     "output_type": "stream",
     "text": [
      "+--------------------+-----+-----+--------------------+--------------------+\n",
      "|                   n|group|abool|                  n2|                  n3|\n",
      "+--------------------+-----+-----+--------------------+--------------------+\n",
      "|  1.8356462888346827|    z| true| -1.8356462888346827|  3.3695972977125432|\n",
      "| -1.8868228152944575|    x| true|  1.8868228152944575|  3.5601003363157027|\n",
      "| 0.42476258526975835|    y| true|-0.42476258526975835| 0.18042325384504873|\n",
      "| -0.4331049843349663|    y| true|  0.4331049843349663|  0.1875799274557914|\n",
      "| -0.1668376625912182|    x|false|  0.1668376625912182|0.027834805658901174|\n",
      "|   0.754634059814846|    y| true|  -0.754634059814846|  0.5694725642326366|\n",
      "|  1.9669745181466287|    y|false| -1.9669745181466287|   3.868988755038162|\n",
      "| 0.20067107813928464|    z|false|-0.20067107813928464| 0.04026888160158288|\n",
      "|  0.7427516385851509|    x|false| -0.7427516385851509|  0.5516799966209267|\n",
      "|  -1.264270698042565|    z|false|   1.264270698042565|  1.5983803979290347|\n",
      "| -0.1127874440211902|    z| true|  0.1127874440211902|0.012721007528833114|\n",
      "|  0.6673580487056044|    x| true| -0.6673580487056044|  0.4453667651721519|\n",
      "| 0.35789965849867184|    x|false|-0.35789965849867184| 0.12809216555346592|\n",
      "|-0.21357490722544392|    x|false| 0.21357490722544392|0.045614240996356976|\n",
      "| -1.2386194978571787|    x| true|  1.2386194978571787|  1.5341782604719696|\n",
      "| -0.4251784098484392|    z| true|  0.4251784098484392| 0.18077668020124732|\n",
      "|  0.4834279192862231|    z| true| -0.4834279192862231| 0.23370255314540703|\n",
      "| 0.34801612291765394|    x| true|-0.34801612291765394| 0.12111522181063561|\n",
      "|  0.7585737713236111|    y| true| -0.7585737713236111|  0.5754341665401262|\n",
      "| 0.21290083723473058|    x|false|-0.21290083723473058| 0.04532676649524924|\n",
      "+--------------------+-----+-----+--------------------+--------------------+\n",
      "\n"
     ]
    }
   ],
   "source": [
    "df = df.withColumn('n3', df.n**2)\n",
    "df.show()"
   ]
  },
  {
   "cell_type": "code",
   "execution_count": 28,
   "metadata": {},
   "outputs": [
    {
     "data": {
      "text/plain": [
       "Column<'(group + abool)'>"
      ]
     },
     "execution_count": 28,
     "metadata": {},
     "output_type": "execute_result"
    }
   ],
   "source": [
    "df.group + df.abool"
   ]
  },
  {
   "cell_type": "code",
   "execution_count": 29,
   "metadata": {},
   "outputs": [
    {
     "name": "stdout",
     "output_type": "stream",
     "text": [
      "root\n",
      " |-- n: double (nullable = true)\n",
      " |-- group: string (nullable = true)\n",
      " |-- abool: boolean (nullable = true)\n",
      " |-- n2: double (nullable = true)\n",
      " |-- n3: double (nullable = true)\n",
      "\n"
     ]
    }
   ],
   "source": [
    "df.printSchema()"
   ]
  },
  {
   "cell_type": "code",
   "execution_count": 30,
   "metadata": {},
   "outputs": [
    {
     "data": {
      "text/plain": [
       "[('n', 'double'),\n",
       " ('group', 'string'),\n",
       " ('abool', 'boolean'),\n",
       " ('n2', 'double'),\n",
       " ('n3', 'double')]"
      ]
     },
     "execution_count": 30,
     "metadata": {},
     "output_type": "execute_result"
    }
   ],
   "source": [
    "df.dtypes"
   ]
  },
  {
   "cell_type": "code",
   "execution_count": 31,
   "metadata": {},
   "outputs": [
    {
     "data": {
      "text/plain": [
       "Column<'CAST(abool AS INT)'>"
      ]
     },
     "execution_count": 31,
     "metadata": {},
     "output_type": "execute_result"
    }
   ],
   "source": [
    "df.abool.cast('int')"
   ]
  },
  {
   "cell_type": "code",
   "execution_count": 32,
   "metadata": {},
   "outputs": [
    {
     "name": "stdout",
     "output_type": "stream",
     "text": [
      "+-----+\n",
      "|abool|\n",
      "+-----+\n",
      "|    1|\n",
      "|    1|\n",
      "|    1|\n",
      "|    1|\n",
      "|    0|\n",
      "|    1|\n",
      "|    0|\n",
      "|    0|\n",
      "|    0|\n",
      "|    0|\n",
      "|    1|\n",
      "|    1|\n",
      "|    0|\n",
      "|    0|\n",
      "|    1|\n",
      "|    1|\n",
      "|    1|\n",
      "|    1|\n",
      "|    1|\n",
      "|    0|\n",
      "+-----+\n",
      "\n"
     ]
    }
   ],
   "source": [
    "df.select(df.abool.cast('int')).show()"
   ]
  },
  {
   "cell_type": "code",
   "execution_count": 33,
   "metadata": {},
   "outputs": [
    {
     "name": "stdout",
     "output_type": "stream",
     "text": [
      "+-----+\n",
      "|abool|\n",
      "+-----+\n",
      "|    1|\n",
      "|    1|\n",
      "|    1|\n",
      "|    1|\n",
      "|    0|\n",
      "|    1|\n",
      "|    0|\n",
      "|    0|\n",
      "|    0|\n",
      "|    0|\n",
      "|    1|\n",
      "|    1|\n",
      "|    0|\n",
      "|    0|\n",
      "|    1|\n",
      "|    1|\n",
      "|    1|\n",
      "|    1|\n",
      "|    1|\n",
      "|    0|\n",
      "+-----+\n",
      "\n"
     ]
    }
   ],
   "source": [
    "df.select(df.abool.cast('int')).show()"
   ]
  },
  {
   "cell_type": "code",
   "execution_count": 34,
   "metadata": {},
   "outputs": [],
   "source": [
    "df = df.withColumn('abool', df.abool.cast('int'))\n",
    "df = df.withColumn('group', df.group.cast('int'))\n",
    "df = df.withColumn('n', df.n.cast('int'))\n",
    "df = df.withColumn('abool', df.abool.cast('string'))"
   ]
  },
  {
   "cell_type": "code",
   "execution_count": 35,
   "metadata": {},
   "outputs": [
    {
     "name": "stdout",
     "output_type": "stream",
     "text": [
      "+---+-----+-----+--------------------+--------------------+\n",
      "|  n|group|abool|                  n2|                  n3|\n",
      "+---+-----+-----+--------------------+--------------------+\n",
      "|  1| null|    1| -1.8356462888346827|  3.3695972977125432|\n",
      "| -1| null|    1|  1.8868228152944575|  3.5601003363157027|\n",
      "|  0| null|    1|-0.42476258526975835| 0.18042325384504873|\n",
      "|  0| null|    1|  0.4331049843349663|  0.1875799274557914|\n",
      "|  0| null|    0|  0.1668376625912182|0.027834805658901174|\n",
      "|  0| null|    1|  -0.754634059814846|  0.5694725642326366|\n",
      "|  1| null|    0| -1.9669745181466287|   3.868988755038162|\n",
      "|  0| null|    0|-0.20067107813928464| 0.04026888160158288|\n",
      "|  0| null|    0| -0.7427516385851509|  0.5516799966209267|\n",
      "| -1| null|    0|   1.264270698042565|  1.5983803979290347|\n",
      "|  0| null|    1|  0.1127874440211902|0.012721007528833114|\n",
      "|  0| null|    1| -0.6673580487056044|  0.4453667651721519|\n",
      "|  0| null|    0|-0.35789965849867184| 0.12809216555346592|\n",
      "|  0| null|    0| 0.21357490722544392|0.045614240996356976|\n",
      "| -1| null|    1|  1.2386194978571787|  1.5341782604719696|\n",
      "|  0| null|    1|  0.4251784098484392| 0.18077668020124732|\n",
      "|  0| null|    1| -0.4834279192862231| 0.23370255314540703|\n",
      "|  0| null|    1|-0.34801612291765394| 0.12111522181063561|\n",
      "|  0| null|    1| -0.7585737713236111|  0.5754341665401262|\n",
      "|  0| null|    0|-0.21290083723473058| 0.04532676649524924|\n",
      "+---+-----+-----+--------------------+--------------------+\n",
      "\n"
     ]
    }
   ],
   "source": [
    "df.show()"
   ]
  },
  {
   "cell_type": "code",
   "execution_count": 40,
   "metadata": {},
   "outputs": [
    {
     "data": {
      "text/plain": [
       "DataFrame[n: double, group: string, abool: boolean]"
      ]
     },
     "execution_count": 40,
     "metadata": {},
     "output_type": "execute_result"
    }
   ],
   "source": [
    "from pyspark.sql.functions import asc, desc, col, avg, concat, lit, mean\n",
    "df = spark.createDataFrame(pandas_dataframe)\n",
    "df"
   ]
  },
  {
   "cell_type": "code",
   "execution_count": 41,
   "metadata": {},
   "outputs": [
    {
     "name": "stdout",
     "output_type": "stream",
     "text": [
      "+------------------+-----+-----+\n",
      "|                 n|group|abool|\n",
      "+------------------+-----+-----+\n",
      "|1.9669745181466287|    y|false|\n",
      "+------------------+-----+-----+\n",
      "only showing top 1 row\n",
      "\n"
     ]
    }
   ],
   "source": [
    "df.sort(desc('n')).show(1)"
   ]
  },
  {
   "cell_type": "code",
   "execution_count": 42,
   "metadata": {},
   "outputs": [
    {
     "name": "stdout",
     "output_type": "stream",
     "text": [
      "+-------------------+-----+-----+\n",
      "|                  n|group|abool|\n",
      "+-------------------+-----+-----+\n",
      "|-1.8868228152944575|    x| true|\n",
      "+-------------------+-----+-----+\n",
      "only showing top 1 row\n",
      "\n"
     ]
    }
   ],
   "source": [
    "df.sort(asc('n')).show(1)"
   ]
  },
  {
   "cell_type": "code",
   "execution_count": 43,
   "metadata": {},
   "outputs": [
    {
     "name": "stdout",
     "output_type": "stream",
     "text": [
      "+-------------------+\n",
      "|             avg(n)|\n",
      "+-------------------+\n",
      "|0.15062100537706935|\n",
      "+-------------------+\n",
      "\n"
     ]
    }
   ],
   "source": [
    "df.agg(mean('n')).show()"
   ]
  },
  {
   "cell_type": "code",
   "execution_count": 44,
   "metadata": {},
   "outputs": [
    {
     "name": "stdout",
     "output_type": "stream",
     "text": [
      "+-----------------------+\n",
      "|concat(Group : , group)|\n",
      "+-----------------------+\n",
      "|              Group : z|\n",
      "|              Group : x|\n",
      "|              Group : y|\n",
      "|              Group : y|\n",
      "|              Group : x|\n",
      "|              Group : y|\n",
      "|              Group : y|\n",
      "|              Group : z|\n",
      "|              Group : x|\n",
      "|              Group : z|\n",
      "|              Group : z|\n",
      "|              Group : x|\n",
      "|              Group : x|\n",
      "|              Group : x|\n",
      "|              Group : x|\n",
      "|              Group : z|\n",
      "|              Group : z|\n",
      "|              Group : x|\n",
      "|              Group : y|\n",
      "|              Group : x|\n",
      "+-----------------------+\n",
      "\n"
     ]
    }
   ],
   "source": [
    "df.select(concat(lit('Group : '), 'group')).show()"
   ]
  },
  {
   "cell_type": "code",
   "execution_count": 45,
   "metadata": {},
   "outputs": [
    {
     "name": "stdout",
     "output_type": "stream",
     "text": [
      "+--------------------+\n",
      "|concat(group, : , n)|\n",
      "+--------------------+\n",
      "|z: 1.835646288834...|\n",
      "|x: -1.88682281529...|\n",
      "|y: 0.424762585269...|\n",
      "|y: -0.43310498433...|\n",
      "|x: -0.16683766259...|\n",
      "|y: 0.754634059814846|\n",
      "|y: 1.966974518146...|\n",
      "|z: 0.200671078139...|\n",
      "|x: 0.742751638585...|\n",
      "|z: -1.26427069804...|\n",
      "|z: -0.11278744402...|\n",
      "|x: 0.667358048705...|\n",
      "|x: 0.357899658498...|\n",
      "|x: -0.21357490722...|\n",
      "|x: -1.23861949785...|\n",
      "|z: -0.42517840984...|\n",
      "|z: 0.483427919286...|\n",
      "|x: 0.348016122917...|\n",
      "|y: 0.758573771323...|\n",
      "|x: 0.212900837234...|\n",
      "+--------------------+\n",
      "\n"
     ]
    }
   ],
   "source": [
    "df.select(concat('group', lit(': '), 'n')).show()"
   ]
  },
  {
   "cell_type": "code",
   "execution_count": 117,
   "metadata": {},
   "outputs": [
    {
     "data": {
      "text/plain": [
       "DataFrame[n: double, group: string, abool: boolean]"
      ]
     },
     "execution_count": 117,
     "metadata": {},
     "output_type": "execute_result"
    }
   ],
   "source": [
    "from pyspark.sql.functions import asc, desc, col, avg, concat, lit, when, mean, regexp_extract, regexp_replace, expr\n",
    "df = spark.createDataFrame(pandas_dataframe)\n",
    "df"
   ]
  },
  {
   "cell_type": "code",
   "execution_count": 47,
   "metadata": {},
   "outputs": [
    {
     "name": "stdout",
     "output_type": "stream",
     "text": [
      "+-----+---------------+\n",
      "|abool|What's the bool|\n",
      "+-----+---------------+\n",
      "| true|     It is true|\n",
      "| true|     It is true|\n",
      "| true|     It is true|\n",
      "| true|     It is true|\n",
      "|false|    It is false|\n",
      "| true|     It is true|\n",
      "|false|    It is false|\n",
      "|false|    It is false|\n",
      "|false|    It is false|\n",
      "|false|    It is false|\n",
      "| true|     It is true|\n",
      "| true|     It is true|\n",
      "|false|    It is false|\n",
      "|false|    It is false|\n",
      "| true|     It is true|\n",
      "| true|     It is true|\n",
      "| true|     It is true|\n",
      "| true|     It is true|\n",
      "| true|     It is true|\n",
      "|false|    It is false|\n",
      "+-----+---------------+\n",
      "\n"
     ]
    }
   ],
   "source": [
    "# Use when and .otherwise to create a column that contains the text \"It is true\" when abool is true \n",
    "# and \"It is false\"\" when abool is false.\n",
    "\n",
    "df.select(\n",
    "    'abool',\n",
    "    (when(df.abool == 'true', \"It is true\")\n",
    "     .otherwise('It is false')\n",
    "     .alias(\"What's the bool\"))\n",
    ").show()"
   ]
  },
  {
   "cell_type": "code",
   "execution_count": 48,
   "metadata": {},
   "outputs": [
    {
     "name": "stdout",
     "output_type": "stream",
     "text": [
      "+--------------------+-------------------+\n",
      "|                   n|            Numbers|\n",
      "+--------------------+-------------------+\n",
      "|  1.8356462888346827| 1.8356462888346827|\n",
      "| -1.8868228152944575|                0.0|\n",
      "| 0.42476258526975835|0.42476258526975835|\n",
      "| -0.4331049843349663|                0.0|\n",
      "| -0.1668376625912182|                0.0|\n",
      "|   0.754634059814846|  0.754634059814846|\n",
      "|  1.9669745181466287| 1.9669745181466287|\n",
      "| 0.20067107813928464|0.20067107813928464|\n",
      "|  0.7427516385851509| 0.7427516385851509|\n",
      "|  -1.264270698042565|                0.0|\n",
      "| -0.1127874440211902|                0.0|\n",
      "|  0.6673580487056044| 0.6673580487056044|\n",
      "| 0.35789965849867184|0.35789965849867184|\n",
      "|-0.21357490722544392|                0.0|\n",
      "| -1.2386194978571787|                0.0|\n",
      "| -0.4251784098484392|                0.0|\n",
      "|  0.4834279192862231| 0.4834279192862231|\n",
      "| 0.34801612291765394|0.34801612291765394|\n",
      "|  0.7585737713236111| 0.7585737713236111|\n",
      "| 0.21290083723473058|0.21290083723473058|\n",
      "+--------------------+-------------------+\n",
      "\n"
     ]
    }
   ],
   "source": [
    "# Create a column that contains 0 if n is less than 0, otherwise, the original n value.\n",
    "\n",
    "df.select(\n",
    "    'n',\n",
    "    (when(df.n < 0 , 0)\n",
    "     .otherwise(df.n)\n",
    "     .alias(\"Numbers\"))\n",
    ").show()"
   ]
  },
  {
   "cell_type": "code",
   "execution_count": 49,
   "metadata": {},
   "outputs": [
    {
     "name": "stdout",
     "output_type": "stream",
     "text": [
      "+-------------------+-----+-----+\n",
      "|                  n|group|abool|\n",
      "+-------------------+-----+-----+\n",
      "|0.42476258526975835|    y| true|\n",
      "|-0.4331049843349663|    y| true|\n",
      "|  0.754634059814846|    y| true|\n",
      "| 1.9669745181466287|    y|false|\n",
      "| 0.7585737713236111|    y| true|\n",
      "+-------------------+-----+-----+\n",
      "\n"
     ]
    }
   ],
   "source": [
    "# Use .filter or .where to select just the rows where the group is y and view the results.\n",
    "\n",
    "df.where(df.group == 'y').show()"
   ]
  },
  {
   "cell_type": "code",
   "execution_count": 50,
   "metadata": {},
   "outputs": [
    {
     "name": "stdout",
     "output_type": "stream",
     "text": [
      "+--------------------+-----+-----+\n",
      "|                   n|group|abool|\n",
      "+--------------------+-----+-----+\n",
      "| -0.1668376625912182|    x|false|\n",
      "|  1.9669745181466287|    y|false|\n",
      "| 0.20067107813928464|    z|false|\n",
      "|  0.7427516385851509|    x|false|\n",
      "|  -1.264270698042565|    z|false|\n",
      "| 0.35789965849867184|    x|false|\n",
      "|-0.21357490722544392|    x|false|\n",
      "| 0.21290083723473058|    x|false|\n",
      "+--------------------+-----+-----+\n",
      "\n"
     ]
    }
   ],
   "source": [
    "# Select just the columns where the abool column is false and view the results.\n",
    "\n",
    "df.where(df.abool == 'false').show()"
   ]
  },
  {
   "cell_type": "code",
   "execution_count": 51,
   "metadata": {},
   "outputs": [
    {
     "name": "stdout",
     "output_type": "stream",
     "text": [
      "+--------------------+-----+-----+\n",
      "|                   n|group|abool|\n",
      "+--------------------+-----+-----+\n",
      "|  1.8356462888346827|    z| true|\n",
      "| -1.8868228152944575|    x| true|\n",
      "| -0.1668376625912182|    x|false|\n",
      "| 0.20067107813928464|    z|false|\n",
      "|  0.7427516385851509|    x|false|\n",
      "|  -1.264270698042565|    z|false|\n",
      "| -0.1127874440211902|    z| true|\n",
      "|  0.6673580487056044|    x| true|\n",
      "| 0.35789965849867184|    x|false|\n",
      "|-0.21357490722544392|    x|false|\n",
      "| -1.2386194978571787|    x| true|\n",
      "| -0.4251784098484392|    z| true|\n",
      "|  0.4834279192862231|    z| true|\n",
      "| 0.34801612291765394|    x| true|\n",
      "| 0.21290083723473058|    x|false|\n",
      "+--------------------+-----+-----+\n",
      "\n"
     ]
    }
   ],
   "source": [
    "# Find the columns where the group column is not y.\n",
    "\n",
    "df.where(df.group != 'y').show()"
   ]
  },
  {
   "cell_type": "code",
   "execution_count": 52,
   "metadata": {},
   "outputs": [
    {
     "name": "stdout",
     "output_type": "stream",
     "text": [
      "+-------------------+-----+-----+\n",
      "|                  n|group|abool|\n",
      "+-------------------+-----+-----+\n",
      "| 1.8356462888346827|    z| true|\n",
      "|0.42476258526975835|    y| true|\n",
      "|  0.754634059814846|    y| true|\n",
      "| 1.9669745181466287|    y|false|\n",
      "|0.20067107813928464|    z|false|\n",
      "| 0.7427516385851509|    x|false|\n",
      "| 0.6673580487056044|    x| true|\n",
      "|0.35789965849867184|    x|false|\n",
      "| 0.4834279192862231|    z| true|\n",
      "|0.34801612291765394|    x| true|\n",
      "| 0.7585737713236111|    y| true|\n",
      "|0.21290083723473058|    x|false|\n",
      "+-------------------+-----+-----+\n",
      "\n"
     ]
    }
   ],
   "source": [
    "# Find the columns where n is positive.\n",
    "\n",
    "df.where(df.n > 0).show()"
   ]
  },
  {
   "cell_type": "code",
   "execution_count": 53,
   "metadata": {},
   "outputs": [
    {
     "name": "stdout",
     "output_type": "stream",
     "text": [
      "+-------------------+-----+-----+\n",
      "|                  n|group|abool|\n",
      "+-------------------+-----+-----+\n",
      "| 1.8356462888346827|    z| true|\n",
      "|-0.1127874440211902|    z| true|\n",
      "|-0.4251784098484392|    z| true|\n",
      "| 0.4834279192862231|    z| true|\n",
      "+-------------------+-----+-----+\n",
      "\n"
     ]
    }
   ],
   "source": [
    "# Find the columns where abool is true and the group column is z.\n",
    "\n",
    "df.where(df.abool == 'true').where(df.group == 'z').show()"
   ]
  },
  {
   "cell_type": "code",
   "execution_count": 54,
   "metadata": {},
   "outputs": [
    {
     "name": "stdout",
     "output_type": "stream",
     "text": [
      "+-------------------+-----+-----+\n",
      "|                  n|group|abool|\n",
      "+-------------------+-----+-----+\n",
      "| 1.8356462888346827|    z| true|\n",
      "|-1.8868228152944575|    x| true|\n",
      "|0.42476258526975835|    y| true|\n",
      "|-0.4331049843349663|    y| true|\n",
      "|  0.754634059814846|    y| true|\n",
      "|0.20067107813928464|    z|false|\n",
      "| -1.264270698042565|    z|false|\n",
      "|-0.1127874440211902|    z| true|\n",
      "| 0.6673580487056044|    x| true|\n",
      "|-1.2386194978571787|    x| true|\n",
      "|-0.4251784098484392|    z| true|\n",
      "| 0.4834279192862231|    z| true|\n",
      "|0.34801612291765394|    x| true|\n",
      "| 0.7585737713236111|    y| true|\n",
      "+-------------------+-----+-----+\n",
      "\n"
     ]
    }
   ],
   "source": [
    "# Find the columns where abool is true or the group column is z.\n",
    "\n",
    "df.filter((df.group == \"z\") | (df.abool == 'true')).show()"
   ]
  },
  {
   "cell_type": "code",
   "execution_count": 55,
   "metadata": {},
   "outputs": [
    {
     "name": "stdout",
     "output_type": "stream",
     "text": [
      "+--------------------+-----+-----+\n",
      "|                   n|group|abool|\n",
      "+--------------------+-----+-----+\n",
      "| -0.1668376625912182|    x|false|\n",
      "| 0.20067107813928464|    z|false|\n",
      "|  0.7427516385851509|    x|false|\n",
      "|  -1.264270698042565|    z|false|\n",
      "| 0.35789965849867184|    x|false|\n",
      "|-0.21357490722544392|    x|false|\n",
      "| 0.21290083723473058|    x|false|\n",
      "+--------------------+-----+-----+\n",
      "\n"
     ]
    }
   ],
   "source": [
    "# Find the columns where abool is false and n is less than 1\n",
    "\n",
    "df.where(df.abool == 'false').where(df.n < 1).show()"
   ]
  },
  {
   "cell_type": "code",
   "execution_count": 56,
   "metadata": {},
   "outputs": [
    {
     "name": "stdout",
     "output_type": "stream",
     "text": [
      "+--------------------+-----+-----+\n",
      "|                   n|group|abool|\n",
      "+--------------------+-----+-----+\n",
      "| -1.8868228152944575|    x| true|\n",
      "| 0.42476258526975835|    y| true|\n",
      "| -0.4331049843349663|    y| true|\n",
      "| -0.1668376625912182|    x|false|\n",
      "|   0.754634059814846|    y| true|\n",
      "|  1.9669745181466287|    y|false|\n",
      "| 0.20067107813928464|    z|false|\n",
      "|  0.7427516385851509|    x|false|\n",
      "|  -1.264270698042565|    z|false|\n",
      "| -0.1127874440211902|    z| true|\n",
      "|  0.6673580487056044|    x| true|\n",
      "| 0.35789965849867184|    x|false|\n",
      "|-0.21357490722544392|    x|false|\n",
      "| -1.2386194978571787|    x| true|\n",
      "| -0.4251784098484392|    z| true|\n",
      "|  0.4834279192862231|    z| true|\n",
      "| 0.34801612291765394|    x| true|\n",
      "|  0.7585737713236111|    y| true|\n",
      "| 0.21290083723473058|    x|false|\n",
      "+--------------------+-----+-----+\n",
      "\n"
     ]
    }
   ],
   "source": [
    "# Find the columns where abool is false or n is less than 1\n",
    "\n",
    "df.filter((df.abool == 'false') | (df.n < 1)).show()"
   ]
  },
  {
   "cell_type": "code",
   "execution_count": 57,
   "metadata": {},
   "outputs": [
    {
     "name": "stdout",
     "output_type": "stream",
     "text": [
      "+--------------------+-----+-----+\n",
      "|                   n|group|abool|\n",
      "+--------------------+-----+-----+\n",
      "| -1.8868228152944575|    x| true|\n",
      "|  -1.264270698042565|    z|false|\n",
      "| -1.2386194978571787|    x| true|\n",
      "| -0.4331049843349663|    y| true|\n",
      "| -0.4251784098484392|    z| true|\n",
      "|-0.21357490722544392|    x|false|\n",
      "| -0.1668376625912182|    x|false|\n",
      "| -0.1127874440211902|    z| true|\n",
      "| 0.20067107813928464|    z|false|\n",
      "| 0.21290083723473058|    x|false|\n",
      "| 0.34801612291765394|    x| true|\n",
      "| 0.35789965849867184|    x|false|\n",
      "| 0.42476258526975835|    y| true|\n",
      "|  0.4834279192862231|    z| true|\n",
      "|  0.6673580487056044|    x| true|\n",
      "|  0.7427516385851509|    x|false|\n",
      "|   0.754634059814846|    y| true|\n",
      "|  0.7585737713236111|    y| true|\n",
      "|  1.8356462888346827|    z| true|\n",
      "|  1.9669745181466287|    y|false|\n",
      "+--------------------+-----+-----+\n",
      "\n"
     ]
    }
   ],
   "source": [
    "# Sort by the n value.\n",
    "\n",
    "df.sort('n').show()"
   ]
  },
  {
   "cell_type": "code",
   "execution_count": 58,
   "metadata": {},
   "outputs": [
    {
     "name": "stdout",
     "output_type": "stream",
     "text": [
      "+--------------------+-----+-----+\n",
      "|                   n|group|abool|\n",
      "+--------------------+-----+-----+\n",
      "| -1.2386194978571787|    x| true|\n",
      "| 0.34801612291765394|    x| true|\n",
      "| 0.21290083723473058|    x|false|\n",
      "|  0.6673580487056044|    x| true|\n",
      "|-0.21357490722544392|    x|false|\n",
      "|  0.7427516385851509|    x|false|\n",
      "| -1.8868228152944575|    x| true|\n",
      "| -0.1668376625912182|    x|false|\n",
      "| 0.35789965849867184|    x|false|\n",
      "|  0.7585737713236111|    y| true|\n",
      "| 0.42476258526975835|    y| true|\n",
      "| -0.4331049843349663|    y| true|\n",
      "|   0.754634059814846|    y| true|\n",
      "|  1.9669745181466287|    y|false|\n",
      "| 0.20067107813928464|    z|false|\n",
      "|  -1.264270698042565|    z|false|\n",
      "| -0.1127874440211902|    z| true|\n",
      "|  1.8356462888346827|    z| true|\n",
      "| -0.4251784098484392|    z| true|\n",
      "|  0.4834279192862231|    z| true|\n",
      "+--------------------+-----+-----+\n",
      "\n"
     ]
    }
   ],
   "source": [
    "# Sort by the group value, both ascending and descending.\n",
    "\n",
    "df.sort(asc('group')).show()"
   ]
  },
  {
   "cell_type": "code",
   "execution_count": 59,
   "metadata": {},
   "outputs": [
    {
     "name": "stdout",
     "output_type": "stream",
     "text": [
      "+--------------------+-----+-----+\n",
      "|                   n|group|abool|\n",
      "+--------------------+-----+-----+\n",
      "|  -1.264270698042565|    z|false|\n",
      "| -0.1127874440211902|    z| true|\n",
      "| 0.20067107813928464|    z|false|\n",
      "|  1.8356462888346827|    z| true|\n",
      "| -0.4251784098484392|    z| true|\n",
      "|  0.4834279192862231|    z| true|\n",
      "|  1.9669745181466287|    y|false|\n",
      "| 0.42476258526975835|    y| true|\n",
      "| -0.4331049843349663|    y| true|\n",
      "|   0.754634059814846|    y| true|\n",
      "|  0.7585737713236111|    y| true|\n",
      "| -1.8868228152944575|    x| true|\n",
      "| -0.1668376625912182|    x|false|\n",
      "|  0.7427516385851509|    x|false|\n",
      "| 0.34801612291765394|    x| true|\n",
      "|  0.6673580487056044|    x| true|\n",
      "|-0.21357490722544392|    x|false|\n",
      "| -1.2386194978571787|    x| true|\n",
      "| 0.21290083723473058|    x|false|\n",
      "| 0.35789965849867184|    x|false|\n",
      "+--------------------+-----+-----+\n",
      "\n"
     ]
    }
   ],
   "source": [
    "df.sort(desc('group')).show()"
   ]
  },
  {
   "cell_type": "code",
   "execution_count": 60,
   "metadata": {},
   "outputs": [
    {
     "name": "stdout",
     "output_type": "stream",
     "text": [
      "+--------------------+-----+-----+\n",
      "|                   n|group|abool|\n",
      "+--------------------+-----+-----+\n",
      "| -1.8868228152944575|    x| true|\n",
      "| -1.2386194978571787|    x| true|\n",
      "|-0.21357490722544392|    x|false|\n",
      "| -0.1668376625912182|    x|false|\n",
      "| 0.21290083723473058|    x|false|\n",
      "| 0.34801612291765394|    x| true|\n",
      "| 0.35789965849867184|    x|false|\n",
      "|  0.6673580487056044|    x| true|\n",
      "|  0.7427516385851509|    x|false|\n",
      "| -0.4331049843349663|    y| true|\n",
      "| 0.42476258526975835|    y| true|\n",
      "|   0.754634059814846|    y| true|\n",
      "|  0.7585737713236111|    y| true|\n",
      "|  1.9669745181466287|    y|false|\n",
      "|  -1.264270698042565|    z|false|\n",
      "| -0.4251784098484392|    z| true|\n",
      "| -0.1127874440211902|    z| true|\n",
      "| 0.20067107813928464|    z|false|\n",
      "|  0.4834279192862231|    z| true|\n",
      "|  1.8356462888346827|    z| true|\n",
      "+--------------------+-----+-----+\n",
      "\n"
     ]
    }
   ],
   "source": [
    "# Sort by the group value first, then, within each group, sort by n value.\n",
    "\n",
    "df.sort('group', 'n').show()"
   ]
  },
  {
   "cell_type": "code",
   "execution_count": 61,
   "metadata": {},
   "outputs": [
    {
     "name": "stdout",
     "output_type": "stream",
     "text": [
      "+--------------------+-----+-----+\n",
      "|                   n|group|abool|\n",
      "+--------------------+-----+-----+\n",
      "|-0.21357490722544392|    x|false|\n",
      "| -0.1668376625912182|    x|false|\n",
      "| 0.21290083723473058|    x|false|\n",
      "| 0.35789965849867184|    x|false|\n",
      "|  0.7427516385851509|    x|false|\n",
      "|  1.9669745181466287|    y|false|\n",
      "|  -1.264270698042565|    z|false|\n",
      "| 0.20067107813928464|    z|false|\n",
      "| -1.8868228152944575|    x| true|\n",
      "| -1.2386194978571787|    x| true|\n",
      "| 0.34801612291765394|    x| true|\n",
      "|  0.6673580487056044|    x| true|\n",
      "| -0.4331049843349663|    y| true|\n",
      "| 0.42476258526975835|    y| true|\n",
      "|   0.754634059814846|    y| true|\n",
      "|  0.7585737713236111|    y| true|\n",
      "| -0.4251784098484392|    z| true|\n",
      "| -0.1127874440211902|    z| true|\n",
      "|  0.4834279192862231|    z| true|\n",
      "|  1.8356462888346827|    z| true|\n",
      "+--------------------+-----+-----+\n",
      "\n"
     ]
    }
   ],
   "source": [
    "# Sort by abool, group, and n. Does it matter in what order you specify the columns when sorting?\n",
    "# yes\n",
    "\n",
    "df.sort('abool', 'group', 'n').show()"
   ]
  },
  {
   "cell_type": "code",
   "execution_count": 62,
   "metadata": {},
   "outputs": [],
   "source": [
    "# Create a spark data frame that contains your favorite programming languages.\n",
    "\n",
    "languages = ['spark', 'SQL', 'Python', \"java\", 'HTML', 'Ruby']\n",
    "df = pd.DataFrame(languages, columns = ['fav_languages'])\n",
    "df = spark.createDataFrame(df)"
   ]
  },
  {
   "cell_type": "code",
   "execution_count": 67,
   "metadata": {},
   "outputs": [
    {
     "name": "stdout",
     "output_type": "stream",
     "text": [
      "(6, 1)\n"
     ]
    }
   ],
   "source": [
    "# Output the shape of the dataframe\n",
    "\n",
    "print((df.count(), len(df.columns)))"
   ]
  },
  {
   "cell_type": "code",
   "execution_count": 63,
   "metadata": {},
   "outputs": [
    {
     "name": "stdout",
     "output_type": "stream",
     "text": [
      "+-------------+\n",
      "|fav_languages|\n",
      "+-------------+\n",
      "|        spark|\n",
      "|          SQL|\n",
      "|       Python|\n",
      "|         java|\n",
      "|         HTML|\n",
      "|         Ruby|\n",
      "+-------------+\n",
      "\n"
     ]
    }
   ],
   "source": [
    "# Show the first 5 records in the dataframe\n",
    "\n",
    "df.show(5)"
   ]
  },
  {
   "cell_type": "code",
   "execution_count": 130,
   "metadata": {},
   "outputs": [],
   "source": [
    "# Load the mpg dataset as a spark dataframe.\n",
    "\n",
    "mpg = spark.createDataFrame(data('mpg'))"
   ]
  },
  {
   "cell_type": "code",
   "execution_count": 131,
   "metadata": {},
   "outputs": [
    {
     "name": "stdout",
     "output_type": "stream",
     "text": [
      "+------------+------------------+-----+----+---+----------+---+---+---+---+-------+\n",
      "|manufacturer|             model|displ|year|cyl|     trans|drv|cty|hwy| fl|  class|\n",
      "+------------+------------------+-----+----+---+----------+---+---+---+---+-------+\n",
      "|        audi|                a4|  1.8|1999|  4|  auto(l5)|  f| 18| 29|  p|compact|\n",
      "|        audi|                a4|  1.8|1999|  4|manual(m5)|  f| 21| 29|  p|compact|\n",
      "|        audi|                a4|  2.0|2008|  4|manual(m6)|  f| 20| 31|  p|compact|\n",
      "|        audi|                a4|  2.0|2008|  4|  auto(av)|  f| 21| 30|  p|compact|\n",
      "|        audi|                a4|  2.8|1999|  6|  auto(l5)|  f| 16| 26|  p|compact|\n",
      "|        audi|                a4|  2.8|1999|  6|manual(m5)|  f| 18| 26|  p|compact|\n",
      "|        audi|                a4|  3.1|2008|  6|  auto(av)|  f| 18| 27|  p|compact|\n",
      "|        audi|        a4 quattro|  1.8|1999|  4|manual(m5)|  4| 18| 26|  p|compact|\n",
      "|        audi|        a4 quattro|  1.8|1999|  4|  auto(l5)|  4| 16| 25|  p|compact|\n",
      "|        audi|        a4 quattro|  2.0|2008|  4|manual(m6)|  4| 20| 28|  p|compact|\n",
      "|        audi|        a4 quattro|  2.0|2008|  4|  auto(s6)|  4| 19| 27|  p|compact|\n",
      "|        audi|        a4 quattro|  2.8|1999|  6|  auto(l5)|  4| 15| 25|  p|compact|\n",
      "|        audi|        a4 quattro|  2.8|1999|  6|manual(m5)|  4| 17| 25|  p|compact|\n",
      "|        audi|        a4 quattro|  3.1|2008|  6|  auto(s6)|  4| 17| 25|  p|compact|\n",
      "|        audi|        a4 quattro|  3.1|2008|  6|manual(m6)|  4| 15| 25|  p|compact|\n",
      "|        audi|        a6 quattro|  2.8|1999|  6|  auto(l5)|  4| 15| 24|  p|midsize|\n",
      "|        audi|        a6 quattro|  3.1|2008|  6|  auto(s6)|  4| 17| 25|  p|midsize|\n",
      "|        audi|        a6 quattro|  4.2|2008|  8|  auto(s6)|  4| 16| 23|  p|midsize|\n",
      "|   chevrolet|c1500 suburban 2wd|  5.3|2008|  8|  auto(l4)|  r| 14| 20|  r|    suv|\n",
      "|   chevrolet|c1500 suburban 2wd|  5.3|2008|  8|  auto(l4)|  r| 11| 15|  e|    suv|\n",
      "+------------+------------------+-----+----+---+----------+---+---+---+---+-------+\n",
      "only showing top 20 rows\n",
      "\n"
     ]
    }
   ],
   "source": [
    "mpg.show()"
   ]
  },
  {
   "cell_type": "code",
   "execution_count": 246,
   "metadata": {},
   "outputs": [
    {
     "name": "stdout",
     "output_type": "stream",
     "text": [
      "+-----------------------------------------------------------------------------+\n",
      "|concat(The , year,  , manufacturer,  , model,  has a , cyl,  cylinder engine)|\n",
      "+-----------------------------------------------------------------------------+\n",
      "|The 1999 audi a4 has a 4 cylinder engine                                     |\n",
      "|The 1999 audi a4 has a 4 cylinder engine                                     |\n",
      "|The 2008 audi a4 has a 4 cylinder engine                                     |\n",
      "|The 2008 audi a4 has a 4 cylinder engine                                     |\n",
      "|The 1999 audi a4 has a 6 cylinder engine                                     |\n",
      "|The 1999 audi a4 has a 6 cylinder engine                                     |\n",
      "|The 2008 audi a4 has a 6 cylinder engine                                     |\n",
      "|The 1999 audi a4 quattro has a 4 cylinder engine                             |\n",
      "|The 1999 audi a4 quattro has a 4 cylinder engine                             |\n",
      "|The 2008 audi a4 quattro has a 4 cylinder engine                             |\n",
      "|The 2008 audi a4 quattro has a 4 cylinder engine                             |\n",
      "|The 1999 audi a4 quattro has a 6 cylinder engine                             |\n",
      "|The 1999 audi a4 quattro has a 6 cylinder engine                             |\n",
      "|The 2008 audi a4 quattro has a 6 cylinder engine                             |\n",
      "|The 2008 audi a4 quattro has a 6 cylinder engine                             |\n",
      "|The 1999 audi a6 quattro has a 6 cylinder engine                             |\n",
      "|The 2008 audi a6 quattro has a 6 cylinder engine                             |\n",
      "|The 2008 audi a6 quattro has a 8 cylinder engine                             |\n",
      "|The 2008 chevrolet c1500 suburban 2wd has a 8 cylinder engine                |\n",
      "|The 2008 chevrolet c1500 suburban 2wd has a 8 cylinder engine                |\n",
      "+-----------------------------------------------------------------------------+\n",
      "only showing top 20 rows\n",
      "\n"
     ]
    }
   ],
   "source": [
    "# Create 1 column of output that contains a message like the one below:\n",
    "\n",
    "mpg.select(concat(lit('The '), 'year', lit(' '), 'manufacturer', lit(' '),\n",
    "                  'model', lit(' has a '), 'cyl', lit(' cylinder engine'))).show(truncate = False)\n"
   ]
  },
  {
   "cell_type": "code",
   "execution_count": 133,
   "metadata": {},
   "outputs": [],
   "source": [
    "# Transform the trans column so that it only contains either manual or auto\n",
    "\n",
    "mpg = mpg.select(\n",
    "    '*',\n",
    "    (when(expr('trans LIKE \"manual%\"'), \"manual\")\n",
    "     .otherwise('auto')\n",
    "     .alias(\"trans\"))\n",
    ")"
   ]
  },
  {
   "cell_type": "code",
   "execution_count": 152,
   "metadata": {},
   "outputs": [],
   "source": [
    "# Load the tips dataset as a spark dataframe.\n",
    "\n",
    "tips = spark.createDataFrame(data('tips'))"
   ]
  },
  {
   "cell_type": "code",
   "execution_count": 153,
   "metadata": {},
   "outputs": [
    {
     "name": "stdout",
     "output_type": "stream",
     "text": [
      "+----------+----+------+------+---+------+----+\n",
      "|total_bill| tip|   sex|smoker|day|  time|size|\n",
      "+----------+----+------+------+---+------+----+\n",
      "|     16.99|1.01|Female|    No|Sun|Dinner|   2|\n",
      "|     10.34|1.66|  Male|    No|Sun|Dinner|   3|\n",
      "|     21.01| 3.5|  Male|    No|Sun|Dinner|   3|\n",
      "|     23.68|3.31|  Male|    No|Sun|Dinner|   2|\n",
      "|     24.59|3.61|Female|    No|Sun|Dinner|   4|\n",
      "|     25.29|4.71|  Male|    No|Sun|Dinner|   4|\n",
      "|      8.77| 2.0|  Male|    No|Sun|Dinner|   2|\n",
      "|     26.88|3.12|  Male|    No|Sun|Dinner|   4|\n",
      "|     15.04|1.96|  Male|    No|Sun|Dinner|   2|\n",
      "|     14.78|3.23|  Male|    No|Sun|Dinner|   2|\n",
      "|     10.27|1.71|  Male|    No|Sun|Dinner|   2|\n",
      "|     35.26| 5.0|Female|    No|Sun|Dinner|   4|\n",
      "|     15.42|1.57|  Male|    No|Sun|Dinner|   2|\n",
      "|     18.43| 3.0|  Male|    No|Sun|Dinner|   4|\n",
      "|     14.83|3.02|Female|    No|Sun|Dinner|   2|\n",
      "|     21.58|3.92|  Male|    No|Sun|Dinner|   2|\n",
      "|     10.33|1.67|Female|    No|Sun|Dinner|   3|\n",
      "|     16.29|3.71|  Male|    No|Sun|Dinner|   3|\n",
      "|     16.97| 3.5|Female|    No|Sun|Dinner|   3|\n",
      "|     20.65|3.35|  Male|    No|Sat|Dinner|   3|\n",
      "+----------+----+------+------+---+------+----+\n",
      "only showing top 20 rows\n",
      "\n"
     ]
    }
   ],
   "source": [
    "tips.show()"
   ]
  },
  {
   "cell_type": "code",
   "execution_count": 154,
   "metadata": {},
   "outputs": [
    {
     "name": "stdout",
     "output_type": "stream",
     "text": [
      "+------+-----+\n",
      "|smoker|count|\n",
      "+------+-----+\n",
      "|    No|  151|\n",
      "|   Yes|   93|\n",
      "+------+-----+\n",
      "\n"
     ]
    },
    {
     "data": {
      "text/plain": [
       "0.38114754098360654"
      ]
     },
     "execution_count": 154,
     "metadata": {},
     "output_type": "execute_result"
    }
   ],
   "source": [
    "# What percentage of observations are smokers?\n",
    "\n",
    "countsBySmoker = tips.groupBy(\"smoker\").count()\n",
    "countsBySmoker.show()\n",
    "93/ (93+151)"
   ]
  },
  {
   "cell_type": "code",
   "execution_count": 155,
   "metadata": {},
   "outputs": [
    {
     "name": "stdout",
     "output_type": "stream",
     "text": [
      "+----------+----+------+------+---+------+----+-------------------+\n",
      "|total_bill| tip|   sex|smoker|day|  time|size|     tip_percentage|\n",
      "+----------+----+------+------+---+------+----+-------------------+\n",
      "|     16.99|1.01|Female|    No|Sun|Dinner|   2|0.05944673337257211|\n",
      "|     10.34|1.66|  Male|    No|Sun|Dinner|   3|0.16054158607350097|\n",
      "|     21.01| 3.5|  Male|    No|Sun|Dinner|   3|0.16658733936220846|\n",
      "|     23.68|3.31|  Male|    No|Sun|Dinner|   2| 0.1397804054054054|\n",
      "|     24.59|3.61|Female|    No|Sun|Dinner|   4|0.14680764538430255|\n",
      "|     25.29|4.71|  Male|    No|Sun|Dinner|   4|0.18623962040332148|\n",
      "|      8.77| 2.0|  Male|    No|Sun|Dinner|   2|0.22805017103762829|\n",
      "|     26.88|3.12|  Male|    No|Sun|Dinner|   4|0.11607142857142858|\n",
      "|     15.04|1.96|  Male|    No|Sun|Dinner|   2|0.13031914893617022|\n",
      "|     14.78|3.23|  Male|    No|Sun|Dinner|   2| 0.2185385656292287|\n",
      "|     10.27|1.71|  Male|    No|Sun|Dinner|   2| 0.1665043816942551|\n",
      "|     35.26| 5.0|Female|    No|Sun|Dinner|   4|0.14180374361883155|\n",
      "|     15.42|1.57|  Male|    No|Sun|Dinner|   2|0.10181582360570687|\n",
      "|     18.43| 3.0|  Male|    No|Sun|Dinner|   4|0.16277807921866522|\n",
      "|     14.83|3.02|Female|    No|Sun|Dinner|   2|0.20364126770060686|\n",
      "|     21.58|3.92|  Male|    No|Sun|Dinner|   2|0.18164967562557924|\n",
      "|     10.33|1.67|Female|    No|Sun|Dinner|   3| 0.1616650532429816|\n",
      "|     16.29|3.71|  Male|    No|Sun|Dinner|   3|0.22774708410067526|\n",
      "|     16.97| 3.5|Female|    No|Sun|Dinner|   3|0.20624631703005306|\n",
      "|     20.65|3.35|  Male|    No|Sat|Dinner|   3|0.16222760290556903|\n",
      "+----------+----+------+------+---+------+----+-------------------+\n",
      "only showing top 20 rows\n",
      "\n"
     ]
    }
   ],
   "source": [
    "# Create a column that contains the tip percentage\n",
    "\n",
    "col = tips.tip / tips.total_bill\n",
    "tips = tips.select('*', col.alias('tip_percentage'))\n",
    "tips.show()"
   ]
  },
  {
   "cell_type": "code",
   "execution_count": 156,
   "metadata": {},
   "outputs": [
    {
     "name": "stdout",
     "output_type": "stream",
     "text": [
      "+------+------------------+-------------------+\n",
      "|   sex|                No|                Yes|\n",
      "+------+------------------+-------------------+\n",
      "|Female|0.1569209707691836|0.18215035269941035|\n",
      "|  Male|0.1606687151291298| 0.1527711752024851|\n",
      "+------+------------------+-------------------+\n",
      "\n"
     ]
    }
   ],
   "source": [
    "# Calculate the average tip percentage for each combination of sex and smoker.\n",
    "\n",
    "tips.groupBy('sex').pivot('smoker').agg(mean('tip_percentage')).show()"
   ]
  },
  {
   "cell_type": "code",
   "execution_count": 173,
   "metadata": {},
   "outputs": [],
   "source": [
    "from vega_datasets import data\n",
    "seattle = spark.createDataFrame(data.seattle_weather())"
   ]
  },
  {
   "cell_type": "code",
   "execution_count": 174,
   "metadata": {},
   "outputs": [
    {
     "name": "stdout",
     "output_type": "stream",
     "text": [
      "+-------------------+-------------+--------+--------+----+-------+\n",
      "|               date|precipitation|temp_max|temp_min|wind|weather|\n",
      "+-------------------+-------------+--------+--------+----+-------+\n",
      "|2012-01-01 00:00:00|          0.0|    12.8|     5.0| 4.7|drizzle|\n",
      "|2012-01-02 00:00:00|         10.9|    10.6|     2.8| 4.5|   rain|\n",
      "|2012-01-03 00:00:00|          0.8|    11.7|     7.2| 2.3|   rain|\n",
      "|2012-01-04 00:00:00|         20.3|    12.2|     5.6| 4.7|   rain|\n",
      "|2012-01-05 00:00:00|          1.3|     8.9|     2.8| 6.1|   rain|\n",
      "|2012-01-06 00:00:00|          2.5|     4.4|     2.2| 2.2|   rain|\n",
      "|2012-01-07 00:00:00|          0.0|     7.2|     2.8| 2.3|   rain|\n",
      "|2012-01-08 00:00:00|          0.0|    10.0|     2.8| 2.0|    sun|\n",
      "|2012-01-09 00:00:00|          4.3|     9.4|     5.0| 3.4|   rain|\n",
      "|2012-01-10 00:00:00|          1.0|     6.1|     0.6| 3.4|   rain|\n",
      "|2012-01-11 00:00:00|          0.0|     6.1|    -1.1| 5.1|    sun|\n",
      "|2012-01-12 00:00:00|          0.0|     6.1|    -1.7| 1.9|    sun|\n",
      "|2012-01-13 00:00:00|          0.0|     5.0|    -2.8| 1.3|    sun|\n",
      "|2012-01-14 00:00:00|          4.1|     4.4|     0.6| 5.3|   snow|\n",
      "|2012-01-15 00:00:00|          5.3|     1.1|    -3.3| 3.2|   snow|\n",
      "|2012-01-16 00:00:00|          2.5|     1.7|    -2.8| 5.0|   snow|\n",
      "|2012-01-17 00:00:00|          8.1|     3.3|     0.0| 5.6|   snow|\n",
      "|2012-01-18 00:00:00|         19.8|     0.0|    -2.8| 5.0|   snow|\n",
      "|2012-01-19 00:00:00|         15.2|    -1.1|    -2.8| 1.6|   snow|\n",
      "|2012-01-20 00:00:00|         13.5|     7.2|    -1.1| 2.3|   snow|\n",
      "+-------------------+-------------+--------+--------+----+-------+\n",
      "only showing top 20 rows\n",
      "\n"
     ]
    }
   ],
   "source": [
    "seattle.show()"
   ]
  },
  {
   "cell_type": "code",
   "execution_count": 190,
   "metadata": {},
   "outputs": [
    {
     "name": "stdout",
     "output_type": "stream",
     "text": [
      "+-------------------+-------------+--------+--------+----+-------+------------------+-------------------+\n",
      "|               date|precipitation|temp_max|temp_min|wind|weather|        fahrenheit|                 dt|\n",
      "+-------------------+-------------+--------+--------+----+-------+------------------+-------------------+\n",
      "|2012-01-01 00:00:00|          0.0|    12.8|     5.0| 4.7|drizzle|             55.04|2012-01-01 00:00:00|\n",
      "|2012-01-02 00:00:00|         10.9|    10.6|     2.8| 4.5|   rain|             51.08|2012-01-02 00:00:00|\n",
      "|2012-01-03 00:00:00|          0.8|    11.7|     7.2| 2.3|   rain|             53.06|2012-01-03 00:00:00|\n",
      "|2012-01-04 00:00:00|         20.3|    12.2|     5.6| 4.7|   rain|             53.96|2012-01-04 00:00:00|\n",
      "|2012-01-05 00:00:00|          1.3|     8.9|     2.8| 6.1|   rain|             48.02|2012-01-05 00:00:00|\n",
      "|2012-01-06 00:00:00|          2.5|     4.4|     2.2| 2.2|   rain|             39.92|2012-01-06 00:00:00|\n",
      "|2012-01-07 00:00:00|          0.0|     7.2|     2.8| 2.3|   rain|             44.96|2012-01-07 00:00:00|\n",
      "|2012-01-08 00:00:00|          0.0|    10.0|     2.8| 2.0|    sun|              50.0|2012-01-08 00:00:00|\n",
      "|2012-01-09 00:00:00|          4.3|     9.4|     5.0| 3.4|   rain|             48.92|2012-01-09 00:00:00|\n",
      "|2012-01-10 00:00:00|          1.0|     6.1|     0.6| 3.4|   rain|42.980000000000004|2012-01-10 00:00:00|\n",
      "|2012-01-11 00:00:00|          0.0|     6.1|    -1.1| 5.1|    sun|42.980000000000004|2012-01-11 00:00:00|\n",
      "|2012-01-12 00:00:00|          0.0|     6.1|    -1.7| 1.9|    sun|42.980000000000004|2012-01-12 00:00:00|\n",
      "|2012-01-13 00:00:00|          0.0|     5.0|    -2.8| 1.3|    sun|              41.0|2012-01-13 00:00:00|\n",
      "|2012-01-14 00:00:00|          4.1|     4.4|     0.6| 5.3|   snow|             39.92|2012-01-14 00:00:00|\n",
      "|2012-01-15 00:00:00|          5.3|     1.1|    -3.3| 3.2|   snow|             33.98|2012-01-15 00:00:00|\n",
      "|2012-01-16 00:00:00|          2.5|     1.7|    -2.8| 5.0|   snow|             35.06|2012-01-16 00:00:00|\n",
      "|2012-01-17 00:00:00|          8.1|     3.3|     0.0| 5.6|   snow|             37.94|2012-01-17 00:00:00|\n",
      "|2012-01-18 00:00:00|         19.8|     0.0|    -2.8| 5.0|   snow|              32.0|2012-01-18 00:00:00|\n",
      "|2012-01-19 00:00:00|         15.2|    -1.1|    -2.8| 1.6|   snow|             30.02|2012-01-19 00:00:00|\n",
      "|2012-01-20 00:00:00|         13.5|     7.2|    -1.1| 2.3|   snow|             44.96|2012-01-20 00:00:00|\n",
      "+-------------------+-------------+--------+--------+----+-------+------------------+-------------------+\n",
      "only showing top 20 rows\n",
      "\n"
     ]
    }
   ],
   "source": [
    "# Convert the temperatures to farenheight.\n",
    "\n",
    "seattle = seattle.withColumn('fahrenheit', ((seattle.temp_max*9)/5) + 32)\n",
    "seattle.show()"
   ]
  },
  {
   "cell_type": "code",
   "execution_count": 191,
   "metadata": {},
   "outputs": [],
   "source": [
    "from pyspark.sql.functions import to_timestamp"
   ]
  },
  {
   "cell_type": "code",
   "execution_count": 192,
   "metadata": {},
   "outputs": [
    {
     "name": "stdout",
     "output_type": "stream",
     "text": [
      "+-------------------+-------------+--------+--------+----+-------+------------------+-------------------+\n",
      "|               date|precipitation|temp_max|temp_min|wind|weather|        fahrenheit|                 dt|\n",
      "+-------------------+-------------+--------+--------+----+-------+------------------+-------------------+\n",
      "|2012-01-01 00:00:00|          0.0|    12.8|     5.0| 4.7|drizzle|             55.04|2012-01-01 00:00:00|\n",
      "|2012-01-02 00:00:00|         10.9|    10.6|     2.8| 4.5|   rain|             51.08|2012-01-02 00:00:00|\n",
      "|2012-01-03 00:00:00|          0.8|    11.7|     7.2| 2.3|   rain|             53.06|2012-01-03 00:00:00|\n",
      "|2012-01-04 00:00:00|         20.3|    12.2|     5.6| 4.7|   rain|             53.96|2012-01-04 00:00:00|\n",
      "|2012-01-05 00:00:00|          1.3|     8.9|     2.8| 6.1|   rain|             48.02|2012-01-05 00:00:00|\n",
      "|2012-01-06 00:00:00|          2.5|     4.4|     2.2| 2.2|   rain|             39.92|2012-01-06 00:00:00|\n",
      "|2012-01-07 00:00:00|          0.0|     7.2|     2.8| 2.3|   rain|             44.96|2012-01-07 00:00:00|\n",
      "|2012-01-08 00:00:00|          0.0|    10.0|     2.8| 2.0|    sun|              50.0|2012-01-08 00:00:00|\n",
      "|2012-01-09 00:00:00|          4.3|     9.4|     5.0| 3.4|   rain|             48.92|2012-01-09 00:00:00|\n",
      "|2012-01-10 00:00:00|          1.0|     6.1|     0.6| 3.4|   rain|42.980000000000004|2012-01-10 00:00:00|\n",
      "|2012-01-11 00:00:00|          0.0|     6.1|    -1.1| 5.1|    sun|42.980000000000004|2012-01-11 00:00:00|\n",
      "|2012-01-12 00:00:00|          0.0|     6.1|    -1.7| 1.9|    sun|42.980000000000004|2012-01-12 00:00:00|\n",
      "|2012-01-13 00:00:00|          0.0|     5.0|    -2.8| 1.3|    sun|              41.0|2012-01-13 00:00:00|\n",
      "|2012-01-14 00:00:00|          4.1|     4.4|     0.6| 5.3|   snow|             39.92|2012-01-14 00:00:00|\n",
      "|2012-01-15 00:00:00|          5.3|     1.1|    -3.3| 3.2|   snow|             33.98|2012-01-15 00:00:00|\n",
      "|2012-01-16 00:00:00|          2.5|     1.7|    -2.8| 5.0|   snow|             35.06|2012-01-16 00:00:00|\n",
      "|2012-01-17 00:00:00|          8.1|     3.3|     0.0| 5.6|   snow|             37.94|2012-01-17 00:00:00|\n",
      "|2012-01-18 00:00:00|         19.8|     0.0|    -2.8| 5.0|   snow|              32.0|2012-01-18 00:00:00|\n",
      "|2012-01-19 00:00:00|         15.2|    -1.1|    -2.8| 1.6|   snow|             30.02|2012-01-19 00:00:00|\n",
      "|2012-01-20 00:00:00|         13.5|     7.2|    -1.1| 2.3|   snow|             44.96|2012-01-20 00:00:00|\n",
      "+-------------------+-------------+--------+--------+----+-------+------------------+-------------------+\n",
      "only showing top 20 rows\n",
      "\n"
     ]
    }
   ],
   "source": [
    "seattle.show()"
   ]
  },
  {
   "cell_type": "code",
   "execution_count": 193,
   "metadata": {},
   "outputs": [
    {
     "name": "stdout",
     "output_type": "stream",
     "text": [
      "+-----+-------------------+\n",
      "|month|          mean_prec|\n",
      "+-----+-------------------+\n",
      "|   11|  5.354166666666667|\n",
      "|   12|  5.021774193548388|\n",
      "|    3|  4.888709677419355|\n",
      "|   10|  4.059677419354839|\n",
      "|    1| 3.7580645161290316|\n",
      "|    2|  3.734513274336283|\n",
      "|    4|  3.128333333333333|\n",
      "|    9| 1.9624999999999997|\n",
      "|    5| 1.6733870967741935|\n",
      "|    8| 1.3201612903225806|\n",
      "|    6| 1.1075000000000002|\n",
      "|    7|0.38870967741935486|\n",
      "+-----+-------------------+\n",
      "\n"
     ]
    }
   ],
   "source": [
    "# Which month has the most rain, on average?\n",
    "# November\n",
    "\n",
    "from pyspark.sql.functions import hour, mean, month, year\n",
    "\n",
    "monthly = seattle.groupBy(month(\"date\").alias(\"month\")).agg(mean(\"precipitation\").alias(\"mean_prec\"))\n",
    "monthly.sort(desc('mean_prec')).show()"
   ]
  },
  {
   "cell_type": "code",
   "execution_count": 194,
   "metadata": {},
   "outputs": [
    {
     "name": "stdout",
     "output_type": "stream",
     "text": [
      "+----+------------------+\n",
      "|year|   mean_wind_speed|\n",
      "+----+------------------+\n",
      "|2012| 3.400819672131147|\n",
      "|2014|3.3876712328767136|\n",
      "|2015|  3.15972602739726|\n",
      "|2013|3.0158904109589044|\n",
      "+----+------------------+\n",
      "\n"
     ]
    }
   ],
   "source": [
    "# Which year was the windiest?\n",
    "# 2012\n",
    "\n",
    "yearly = seattle.groupBy(year(\"date\").alias(\"year\")).agg(mean(\"wind\").alias(\"mean_wind_speed\"))\n",
    "yearly.sort(desc('mean_wind_speed')).show()"
   ]
  },
  {
   "cell_type": "code",
   "execution_count": 202,
   "metadata": {},
   "outputs": [
    {
     "name": "stdout",
     "output_type": "stream",
     "text": [
      "+-------+-----+\n",
      "|weather|count|\n",
      "+-------+-----+\n",
      "|    fog|   38|\n",
      "|   rain|   35|\n",
      "|    sun|   33|\n",
      "|drizzle|   10|\n",
      "|   snow|    8|\n",
      "+-------+-----+\n",
      "\n"
     ]
    }
   ],
   "source": [
    "# What is the most frequent type of weather in January?\n",
    "\n",
    "seattle.where(month(\"date\") == '1').groupBy('weather').count().sort(desc('count')).show()"
   ]
  },
  {
   "cell_type": "code",
   "execution_count": 228,
   "metadata": {},
   "outputs": [
    {
     "name": "stdout",
     "output_type": "stream",
     "text": [
      "+-----------------+\n",
      "|    avg(temp_min)|\n",
      "+-----------------+\n",
      "|14.18269230769231|\n",
      "+-----------------+\n",
      "\n"
     ]
    }
   ],
   "source": [
    "# What is the average high and low temperature on sunny days in July in 2013 and 2014?\n",
    "\n",
    "july = seattle.where(month('date') == '7')\n",
    "july_13_14 = july.filter((year('date') == 2013) | (year('date') == 2014))\n",
    "july_13_14.where(july.weather == 'sun').agg(mean('temp_min')).show()"
   ]
  },
  {
   "cell_type": "code",
   "execution_count": 229,
   "metadata": {},
   "outputs": [
    {
     "name": "stdout",
     "output_type": "stream",
     "text": [
      "+------------------+\n",
      "|     avg(temp_max)|\n",
      "+------------------+\n",
      "|26.828846153846158|\n",
      "+------------------+\n",
      "\n"
     ]
    }
   ],
   "source": [
    "july_13_14.where(july.weather == 'sun').agg(mean('temp_max')).show()"
   ]
  },
  {
   "cell_type": "code",
   "execution_count": 249,
   "metadata": {},
   "outputs": [
    {
     "data": {
      "text/plain": [
       "0.07608695652173914"
      ]
     },
     "execution_count": 249,
     "metadata": {},
     "output_type": "execute_result"
    }
   ],
   "source": [
    "# What percentage of days were rainy in q3 of 2015?\n",
    "\n",
    "q3 = seattle.filter((month('date') == '7') | (month('date') == '8') | (month('date') == '9'))\n",
    "q3_2015 = q3.where(year('date') == 2015)\n",
    "q3_2015.filter((q3_2015.weather == 'rain') | (q3_2015.weather == 'drizzle')).count() / q3_2015.count()\n",
    "(5+2)/(5+2+64+21)"
   ]
  },
  {
   "cell_type": "code",
   "execution_count": 232,
   "metadata": {},
   "outputs": [],
   "source": [
    "# For each year, find what percentage of days it rained (had non-zero precipitation).\n",
    "\n",
    "seattle_prec = seattle.where(seattle.precipitation > 0)\n",
    "seattle_no_prec = seattle.where(seattle.precipitation == 0)"
   ]
  },
  {
   "cell_type": "code",
   "execution_count": 253,
   "metadata": {},
   "outputs": [
    {
     "name": "stdout",
     "output_type": "stream",
     "text": [
      "+----------+-----+\n",
      "|year(date)|count|\n",
      "+----------+-----+\n",
      "|      2015|  221|\n",
      "|      2013|  213|\n",
      "|      2014|  215|\n",
      "|      2012|  189|\n",
      "+----------+-----+\n",
      "\n",
      "+----------+-----+\n",
      "|year(date)|count|\n",
      "+----------+-----+\n",
      "|      2015|  144|\n",
      "|      2013|  152|\n",
      "|      2014|  150|\n",
      "|      2012|  177|\n",
      "+----------+-----+\n",
      "\n"
     ]
    }
   ],
   "source": [
    "seattle_no_prec.groupBy(year('date')).count().show()\n",
    "seattle_prec.groupBy(year('date')).count().show()"
   ]
  },
  {
   "cell_type": "code",
   "execution_count": null,
   "metadata": {},
   "outputs": [],
   "source": []
  }
 ],
 "metadata": {
  "kernelspec": {
   "display_name": "Python 3",
   "language": "python",
   "name": "python3"
  },
  "language_info": {
   "codemirror_mode": {
    "name": "ipython",
    "version": 3
   },
   "file_extension": ".py",
   "mimetype": "text/x-python",
   "name": "python",
   "nbconvert_exporter": "python",
   "pygments_lexer": "ipython3",
   "version": "3.8.5"
  }
 },
 "nbformat": 4,
 "nbformat_minor": 4
}
